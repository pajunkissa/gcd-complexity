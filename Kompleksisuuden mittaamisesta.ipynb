{
 "cells": [
  {
   "cell_type": "markdown",
   "metadata": {},
   "source": [
    "# Kompleksisuuden mittaamisesta\n",
    "\n",
    "Tässä esseessä tutkitaan kahta eri algoritmia, jotka laskee kahden luvun suurimman yhteisen tekijän, ja keskitytään tarkastelemaan lähinnä niiden aikavaativuutta eri tavoilla.\n",
    "\n",
    "## Algoritmit\n",
    "Ensimmäinen algoritmi käyttää vain vertailuja ja vähennyslaskuja, jotka voidaan suorittaa $O(max\\{n, m\\})$ bittioperaatiolla, missä $n$ ja $m$ ovat lukujen binääriesityksien pituudet.\n",
    "\n",
    "#### Algoritmi 1\n",
    "Ensimmäisessä algoritmissa vähennellään lukuja toisistaan vuorotellen niin, että luvut pysyvät ei-negatiivisina. Tällä tavoin päästään pienimpään positiiviseen lukuun, joka saadaan alkuperäisten lukujen $a$ ja $b$ lineaarikombinaationa. Tämä luku on lukujen $a$ ja $b$ suurin yhteinen tekijä."
   ]
  },
  {
   "cell_type": "code",
   "execution_count": 1,
   "metadata": {},
   "outputs": [],
   "source": [
    "def syt(a, b):\n",
    "    kierros = 0\n",
    "    while a > 0 and b > 0:\n",
    "        if a > b:\n",
    "            a = a - b\n",
    "        else:\n",
    "            b = b - a\n",
    "        kierros += 1\n",
    "    return((a, kierros))"
   ]
  },
  {
   "cell_type": "markdown",
   "metadata": {},
   "source": [
    "Algoritmissa pidetään kirjaa tarvittavien kierrosten määrästä. Jokaisella kierroksella tehdään kolme vertailua ja yksi vähennyslasku, eli yksi kierros on $O(n)$.\n",
    "\n",
    "Toinen algoritmi on tavallinen Eukleideen algoritmi, jossa käytetään jakojäännöstä, jonka laskeminen onnistuu $O(n^2)$ bittioperaatiolla.\n",
    "\n",
    "#### Algoritmi 2"
   ]
  },
  {
   "cell_type": "code",
   "execution_count": 2,
   "metadata": {},
   "outputs": [],
   "source": [
    "def eukl(a, b):\n",
    "    q = max(a, b)\n",
    "    r = min(a, b)\n",
    "    kierros = 0\n",
    "    while r != 0:\n",
    "        q, r = r, q % r\n",
    "        kierros += 1\n",
    "    return (q, kierros)"
   ]
  },
  {
   "cell_type": "markdown",
   "metadata": {},
   "source": [
    "Eukleideen algoritmissa tarvitaan kierroksia korkeintaan $O(n)$ kappaletta. Luentomonisteessa huomautetaan, että joissain tapauksissa vähemmällä ei selviä, esimerkiksi peräkkäisten Fibonaccin lukujen sytin laskemisessa.\n",
    "\n",
    "## Aikavaativuus\n",
    "\n",
    "Vertaillaan algoritmien vaatimien kierrosten lukumäärää\n",
    "(aja ensin jokin ensimmäisestä kolmesta solusta ja sitten neljäs):"
   ]
  },
  {
   "cell_type": "code",
   "execution_count": 11,
   "metadata": {},
   "outputs": [],
   "source": [
    "a = 233\n",
    "b = 144"
   ]
  },
  {
   "cell_type": "code",
   "execution_count": 4,
   "metadata": {},
   "outputs": [],
   "source": [
    "a = 233\n",
    "b = 233"
   ]
  },
  {
   "cell_type": "code",
   "execution_count": 5,
   "metadata": {},
   "outputs": [],
   "source": [
    "a = 233\n",
    "b = 1"
   ]
  },
  {
   "cell_type": "code",
   "execution_count": 13,
   "metadata": {},
   "outputs": [
    {
     "name": "stdout",
     "output_type": "stream",
     "text": [
      "Algoritmi 1: syöte: a = 233, b = 144\n",
      "             syt: 1, kierroksia: 12 \n",
      "\n",
      "Algoritmi 2: syöte: a = 233, b = 144\n",
      "             syt: 1, kierroksia: 11\n"
     ]
    }
   ],
   "source": [
    "print(\"Algoritmi 1: syöte: a = %d, b = %d\" % (a,b))\n",
    "print(\"             syt: %d, kierroksia: %d \\n\" % (syt(a,b)))\n",
    "\n",
    "print(\"Algoritmi 2: syöte: a = %d, b = %d\" % (a,b))\n",
    "print(\"             syt: %d, kierroksia: %d\" % (eukl(a,b)))"
   ]
  },
  {
   "cell_type": "markdown",
   "metadata": {},
   "source": [
    "Peräkkäisten Fibonaccin lukujen sytin laskemisessa algoritmit suoriutuvat suunnilleen yhtä monessa kierroksessa, samoin luvun sytin itsensä kanssa, mutta $syt(a, 1)$ laskemiseen algoritmilla 1 menee $a$ kierrosta, eli $O(2^n)$ laskutoimitusta ja vertailua! Laskutoimitukset ovat tosin erityisen edullisia: ykkösen vähetäminen luvusta onnistuu ajassa $O(1)$, mutta joka silti algoritmi on kelvoton huonoimmassa tapauksessa.\n",
    "\n",
    "Huomautettakoon, että algoritmi 1 toimii Eukleideen algoritmia paremmin peräkkäisillä Fibonaccin luvuilla, koska kierrokset on aikakompleksisuusmielessä halvempaa kertaluokkaa."
   ]
  },
  {
   "cell_type": "markdown",
   "metadata": {},
   "source": [
    "## Visualisointi\n",
    "Havainnollistetaan vielä molempien algoritmien suorituskykyä eri tapauksissa."
   ]
  }
 ],
 "metadata": {
  "kernelspec": {
   "display_name": "Python 3",
   "language": "python",
   "name": "python3"
  },
  "language_info": {
   "codemirror_mode": {
    "name": "ipython",
    "version": 3
   },
   "file_extension": ".py",
   "mimetype": "text/x-python",
   "name": "python",
   "nbconvert_exporter": "python",
   "pygments_lexer": "ipython3",
   "version": "3.7.1"
  }
 },
 "nbformat": 4,
 "nbformat_minor": 2
}
